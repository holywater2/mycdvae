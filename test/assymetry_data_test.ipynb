{
 "cells": [
  {
   "cell_type": "code",
   "execution_count": 2,
   "metadata": {},
   "outputs": [],
   "source": [
    "import numpy as np\n",
    "import pandas as pd\n",
    "import networkx as nx\n",
    "import torch\n",
    "import copy\n",
    "import itertools\n",
    "\n",
    "from pymatgen.core.structure import Structure\n",
    "from pymatgen.core.lattice import Lattice\n",
    "from pymatgen.analysis.graphs import StructureGraph\n",
    "from pymatgen.analysis import local_env\n",
    "\n",
    "from networkx.algorithms.components import is_connected\n",
    "\n",
    "from sklearn.metrics import accuracy_score, recall_score, precision_score\n",
    "\n",
    "from torch_scatter import scatter\n",
    "\n",
    "from p_tqdm import p_umap"
   ]
  },
  {
   "cell_type": "code",
   "execution_count": 3,
   "metadata": {},
   "outputs": [],
   "source": [
    "def build_crystal(crystal_str, niggli=True, primitive=False):\n",
    "    \"\"\"Build crystal from cif string.\"\"\"\n",
    "    crystal = Structure.from_str(crystal_str, fmt='cif')\n",
    "\n",
    "    if primitive:\n",
    "        crystal = crystal.get_primitive_structure()\n",
    "\n",
    "    if niggli:\n",
    "        crystal = crystal.get_reduced_structure()\n",
    "\n",
    "    canonical_crystal = Structure(\n",
    "        lattice=Lattice.from_parameters(*crystal.lattice.parameters),\n",
    "        species=crystal.species,\n",
    "        coords=crystal.frac_coords,\n",
    "        coords_are_cartesian=False,\n",
    "    )\n",
    "    # match is gaurantteed because cif only uses lattice params & frac_coords\n",
    "    # assert canonical_crystal.matches(crystal)\n",
    "    return canonical_crystal"
   ]
  },
  {
   "cell_type": "code",
   "execution_count": 4,
   "metadata": {},
   "outputs": [],
   "source": [
    "def build_crystal_graph(crystal, graph_method='crystalnn'):\n",
    "    \"\"\"\n",
    "    \"\"\"\n",
    "\n",
    "    if graph_method == 'crystalnn':\n",
    "        crystal_graph = StructureGraph.with_local_env_strategy(\n",
    "            crystal, CrystalNN)\n",
    "    elif graph_method == 'none':\n",
    "        pass\n",
    "    else:\n",
    "        raise NotImplementedError\n",
    "\n",
    "    frac_coords = crystal.frac_coords\n",
    "    atom_types = crystal.atomic_numbers\n",
    "    lattice_parameters = crystal.lattice.parameters\n",
    "    lengths = lattice_parameters[:3]\n",
    "    angles = lattice_parameters[3:]\n",
    "\n",
    "    assert np.allclose(crystal.lattice.matrix,\n",
    "                       lattice_params_to_matrix(*lengths, *angles))\n",
    "\n",
    "    edge_indices, to_jimages = [], []\n",
    "    if graph_method != 'none':\n",
    "        for i, j, to_jimage in crystal_graph.graph.edges(data='to_jimage'):\n",
    "            edge_indices.append([j, i])\n",
    "            to_jimages.append(to_jimage)\n",
    "            edge_indices.append([i, j])\n",
    "            to_jimages.append(tuple(-tj for tj in to_jimage))\n",
    "\n",
    "    atom_types = np.array(atom_types)\n",
    "    lengths, angles = np.array(lengths), np.array(angles)\n",
    "    edge_indices = np.array(edge_indices)\n",
    "    to_jimages = np.array(to_jimages)\n",
    "    num_atoms = atom_types.shape[0]\n",
    "\n",
    "    return frac_coords, atom_types, lengths, angles, edge_indices, to_jimages, num_atoms"
   ]
  },
  {
   "cell_type": "code",
   "execution_count": 5,
   "metadata": {},
   "outputs": [],
   "source": [
    "def preprocess(input_file, num_workers, niggli, primitive, graph_method,\n",
    "               prop_list):\n",
    "    df = pd.read_csv(input_file)\n",
    "\n",
    "    def process_one(row, niggli, primitive, graph_method, prop_list):\n",
    "        crystal_str = row['cif']\n",
    "        crystal = build_crystal(\n",
    "            crystal_str, niggli=niggli, primitive=primitive)\n",
    "        graph_arrays = build_crystal_graph(crystal, graph_method)\n",
    "        properties = {k: row[k] for k in prop_list if k in row.keys()}\n",
    "        result_dict = {\n",
    "            'mp_id': row['material_id'],\n",
    "            'cif': crystal_str,\n",
    "            'graph_arrays': graph_arrays,\n",
    "        }\n",
    "        result_dict.update(properties)\n",
    "        return result_dict\n",
    "\n",
    "    unordered_results = p_umap(\n",
    "        process_one,\n",
    "        [df.iloc[idx] for idx in range(len(df))],\n",
    "        [niggli] * len(df),\n",
    "        [primitive] * len(df),\n",
    "        [graph_method] * len(df),\n",
    "        [prop_list] * len(df),\n",
    "        num_cpus=num_workers)\n",
    "\n",
    "    mpid_to_results = {result['mp_id']: result for result in unordered_results}\n",
    "    ordered_results = [mpid_to_results[df.iloc[idx]['material_id']]\n",
    "                       for idx in range(len(df))]\n",
    "\n",
    "    return ordered_results"
   ]
  },
  {
   "cell_type": "code",
   "execution_count": 6,
   "metadata": {},
   "outputs": [],
   "source": [
    "def preprocess_space_group(input_file):\n",
    "    df = pd.read_csv(input_file)\n",
    "\n",
    "    def process_one(row):\n",
    "        crystal_str = row['cif']\n",
    "        crystal = build_crystal(\n",
    "            crystal_str)\n",
    "        result_dict = {\n",
    "            'mp_id': row['material_id'],\n",
    "            'cif': crystal_str,\n",
    "            'crystal': crystal,\n",
    "        }\n",
    "        return result_dict\n",
    "\n",
    "    unordered_results = p_umap(\n",
    "        process_one,\n",
    "        [df.iloc[idx] for idx in range(len(df))])\n",
    "\n",
    "    mpid_to_results = {result['mp_id']: result for result in unordered_results}\n",
    "    ordered_results = [mpid_to_results[df.iloc[idx]['material_id']]\n",
    "                       for idx in range(len(df))]\n",
    "    return ordered_results"
   ]
  },
  {
   "cell_type": "code",
   "execution_count": 5,
   "metadata": {},
   "outputs": [],
   "source": [
    "df = pd.read_csv(\"../data/mp_20/val.csv\")"
   ]
  },
  {
   "cell_type": "code",
   "execution_count": 6,
   "metadata": {},
   "outputs": [
    {
     "data": {
      "text/plain": [
       "Unnamed: 0                                                                  65\n",
       "material_id                                                          mp-865981\n",
       "formation_energy_per_atom                                            -0.436368\n",
       "band_gap                                                                   0.0\n",
       "pretty_formula                                                         TmMgHg2\n",
       "e_above_hull                                                               0.0\n",
       "elements                                                    ['Hg', 'Mg', 'Tm']\n",
       "cif                          # generated using pymatgen\\ndata_TmMgHg2\\n_sym...\n",
       "spacegroup.number                                                          225\n",
       "Name: 0, dtype: object"
      ]
     },
     "execution_count": 6,
     "metadata": {},
     "output_type": "execute_result"
    }
   ],
   "source": [
    "df.iloc[0]"
   ]
  },
  {
   "cell_type": "code",
   "execution_count": 7,
   "metadata": {},
   "outputs": [],
   "source": [
    "ddd = df.iloc[0].cif"
   ]
  },
  {
   "cell_type": "code",
   "execution_count": 8,
   "metadata": {},
   "outputs": [
    {
     "data": {
      "text/plain": [
       "\"# generated using pymatgen\\ndata_TmMgHg2\\n_symmetry_space_group_name_H-M   'P 1'\\n_cell_length_a   5.04880040\\n_cell_length_b   5.04880040\\n_cell_length_c   5.04880040\\n_cell_angle_alpha   60.00000000\\n_cell_angle_beta   60.00000000\\n_cell_angle_gamma   60.00000000\\n_symmetry_Int_Tables_number   1\\n_chemical_formula_structural   TmMgHg2\\n_chemical_formula_sum   'Tm1 Mg1 Hg2'\\n_cell_volume   91.00172128\\n_cell_formula_units_Z   1\\nloop_\\n _symmetry_equiv_pos_site_id\\n _symmetry_equiv_pos_as_xyz\\n  1  'x, y, z'\\nloop_\\n _atom_site_type_symbol\\n _atom_site_label\\n _atom_site_symmetry_multiplicity\\n _atom_site_fract_x\\n _atom_site_fract_y\\n _atom_site_fract_z\\n _atom_site_occupancy\\n  Tm  Tm0  1  0.00000000  0.00000000  0.00000000  1\\n  Mg  Mg1  1  0.50000000  0.50000000  0.50000000  1\\n  Hg  Hg2  1  0.25000000  0.25000000  0.25000000  1\\n  Hg  Hg3  1  0.75000000  0.75000000  0.75000000  1\\n\""
      ]
     },
     "execution_count": 8,
     "metadata": {},
     "output_type": "execute_result"
    }
   ],
   "source": [
    "ddd"
   ]
  },
  {
   "cell_type": "code",
   "execution_count": 9,
   "metadata": {},
   "outputs": [],
   "source": [
    "cry = build_crystal(ddd,niggli=True)"
   ]
  },
  {
   "cell_type": "code",
   "execution_count": 10,
   "metadata": {},
   "outputs": [
    {
     "data": {
      "text/plain": [
       "Structure Summary\n",
       "Lattice\n",
       "    abc : 5.0488004 5.048800399999999 5.048800399999999\n",
       " angles : 59.99999999999999 60.00000000000001 60.00000000000001\n",
       " volume : 91.00172125826344\n",
       "      A : 4.372389405037036 0.0 2.5244001999999996\n",
       "      B : 1.457463135012344 4.122328264386535 2.5244002\n",
       "      C : 0.0 0.0 5.048800399999999\n",
       "    pbc : True True True\n",
       "PeriodicSite: Tm (0.0, 0.0, 0.0) [0.0, 0.0, 0.0]\n",
       "PeriodicSite: Mg (2.915, 2.061, 5.049) [0.5, 0.5, 0.5]\n",
       "PeriodicSite: Hg (4.372, 3.092, 7.573) [0.75, 0.75, 0.75]\n",
       "PeriodicSite: Hg (1.457, 1.031, 2.524) [0.25, 0.25, 0.25]"
      ]
     },
     "execution_count": 10,
     "metadata": {},
     "output_type": "execute_result"
    }
   ],
   "source": [
    "cry"
   ]
  },
  {
   "cell_type": "code",
   "execution_count": 11,
   "metadata": {},
   "outputs": [],
   "source": [
    "space_group = df.groupby('spacegroup.number')"
   ]
  },
  {
   "cell_type": "code",
   "execution_count": 19,
   "metadata": {},
   "outputs": [
    {
     "name": "stdout",
     "output_type": "stream",
     "text": [
      "spacegroup.number\n",
      "1       147\n",
      "2       211\n",
      "3         4\n",
      "4        50\n",
      "5        77\n",
      "       ... \n",
      "223      12\n",
      "224       2\n",
      "225    1300\n",
      "227     117\n",
      "229      28\n",
      "Length: 157, dtype: int64\n"
     ]
    }
   ],
   "source": [
    "print(space_group.size())"
   ]
  },
  {
   "cell_type": "code",
   "execution_count": 26,
   "metadata": {},
   "outputs": [],
   "source": [
    "df_all = pd.read_csv(\"../data/data_all/mp_20.csv\")"
   ]
  },
  {
   "cell_type": "code",
   "execution_count": 33,
   "metadata": {},
   "outputs": [],
   "source": [
    "# # 1:\"Triclinic\",    # 1-2\n",
    "# # 2:\"Monoclinic\",   # 3-15\n",
    "# # 3:\"Orthorhombic\", # 16-74\n",
    "# # 4:\"Tetragonal\",   # 75-142\n",
    "# # 5:\"Trigonal\",     # 143-167\n",
    "# # 6:\"Hexagonal\",    # 168-194\n",
    "# # 7:\"Cubic\"         # 195-230\n",
    "# mono = df_all[df_all[\"spacegroup.number\"].isin(range(195,231))]\n",
    "# mono.to_csv(\"../data/mp_20_processed/Cubic.csv\")"
   ]
  },
  {
   "cell_type": "code",
   "execution_count": 9,
   "metadata": {},
   "outputs": [
    {
     "name": "stdout",
     "output_type": "stream",
     "text": [
      "       Unnamed: 0.1  Unnamed: 0 material_id  formation_energy_per_atom  \\\n",
      "0                 0        6000    mp-10009                  -0.575092   \n",
      "1                 1       37702  mp-1218989                  -0.942488   \n",
      "2                 2       42245  mp-1225695                   0.064863   \n",
      "3                 3         780  mp-1220884                  -1.456116   \n",
      "4                 4       35749  mp-1224266                   0.024139   \n",
      "...             ...         ...         ...                        ...   \n",
      "45224         27131       37856   mp-568116                  -0.988502   \n",
      "45225         27132       11955   mp-865529                  -0.640955   \n",
      "45226         27133       26119  mp-1189241                  -0.756019   \n",
      "45227         27134       30556  mp-1104538                  -0.104870   \n",
      "45228         27135       32933   mp-756354                  -3.712252   \n",
      "\n",
      "       band_gap pretty_formula  e_above_hull                elements  \\\n",
      "0        0.8980           GaTe      0.000000            ['Ga', 'Te']   \n",
      "1        0.0000         SmThCN      0.044109  ['C', 'N', 'Sm', 'Th']   \n",
      "2        0.0000           CuNi      0.064863            ['Cu', 'Ni']   \n",
      "3        0.0000        NaTiVS4      0.000000  ['Na', 'S', 'Ti', 'V']   \n",
      "4        0.0000       Ho3TmMn8      0.036496      ['Ho', 'Mn', 'Tm']   \n",
      "...         ...            ...           ...                     ...   \n",
      "45224    3.7614      Lu2(CN2)3      0.045185        ['C', 'Lu', 'N']   \n",
      "45225    0.0000        Ti2NiIr      0.000000      ['Ti', 'Ni', 'Ir']   \n",
      "45226    0.0000        GdAs2Au      0.010305      ['As', 'Au', 'Gd']   \n",
      "45227    0.0000      Tm(FeSn)6      0.021206      ['Fe', 'Sn', 'Tm']   \n",
      "45228    2.7684        SrSc2O4      0.025978       ['O', 'Sc', 'Sr']   \n",
      "\n",
      "                                                     cif  spacegroup.number  \n",
      "0      # generated using pymatgen\\ndata_GaTe\\n_symmet...                194  \n",
      "1      # generated using pymatgen\\ndata_SmThCN\\n_symm...                160  \n",
      "2      # generated using pymatgen\\ndata_CuNi\\n_symmet...                 65  \n",
      "3      # generated using pymatgen\\ndata_NaTiVS4\\n_sym...                  8  \n",
      "4      # generated using pymatgen\\ndata_Ho3TmMn8\\n_sy...                  8  \n",
      "...                                                  ...                ...  \n",
      "45224  # generated using pymatgen\\ndata_Lu2(CN2)3\\n_s...                155  \n",
      "45225  # generated using pymatgen\\ndata_Ti2NiIr\\n_sym...                225  \n",
      "45226  # generated using pymatgen\\ndata_GdAs2Au\\n_sym...                 64  \n",
      "45227  # generated using pymatgen\\ndata_Tm(FeSn)6\\n_s...                191  \n",
      "45228  # generated using pymatgen\\ndata_SrSc2O4\\n_sym...                 63  \n",
      "\n",
      "[45229 rows x 10 columns]\n"
     ]
    }
   ],
   "source": [
    "print(df_all)"
   ]
  },
  {
   "cell_type": "code",
   "execution_count": 27,
   "metadata": {},
   "outputs": [],
   "source": [
    "space_group_all = df_all.groupby('spacegroup.number')"
   ]
  },
  {
   "cell_type": "code",
   "execution_count": 28,
   "metadata": {},
   "outputs": [
    {
     "name": "stdout",
     "output_type": "stream",
     "text": [
      "spacegroup.number\n",
      "1       781\n",
      "2      1099\n",
      "3        52\n",
      "4       248\n",
      "5       427\n",
      "       ... \n",
      "223      83\n",
      "224       7\n",
      "225    6714\n",
      "227     499\n",
      "229     152\n",
      "Length: 177, dtype: int64\n"
     ]
    }
   ],
   "source": [
    "print(space_group_all.size())"
   ]
  },
  {
   "cell_type": "code",
   "execution_count": 43,
   "metadata": {},
   "outputs": [
    {
     "data": {
      "text/plain": [
       "152"
      ]
     },
     "execution_count": 43,
     "metadata": {},
     "output_type": "execute_result"
    }
   ],
   "source": [
    "len(a[1])"
   ]
  },
  {
   "cell_type": "code",
   "execution_count": 44,
   "metadata": {},
   "outputs": [
    {
     "name": "stdout",
     "output_type": "stream",
     "text": [
      "1 781\n",
      "2 1099\n",
      "3 52\n",
      "4 248\n",
      "5 427\n",
      "6 271\n",
      "7 162\n",
      "8 606\n",
      "9 185\n",
      "10 212\n",
      "11 448\n",
      "12 2141\n",
      "13 100\n",
      "14 927\n",
      "15 848\n",
      "16 1\n",
      "17 1\n",
      "18 12\n",
      "19 74\n",
      "20 35\n",
      "21 32\n",
      "22 3\n",
      "23 7\n",
      "24 22\n",
      "25 209\n",
      "26 135\n",
      "28 3\n",
      "29 19\n",
      "30 2\n",
      "31 211\n",
      "33 74\n",
      "34 7\n",
      "35 28\n",
      "36 284\n",
      "37 4\n",
      "38 616\n",
      "39 11\n",
      "40 59\n",
      "41 17\n",
      "42 71\n",
      "43 60\n",
      "44 305\n",
      "46 83\n",
      "47 143\n",
      "49 1\n",
      "51 110\n",
      "52 7\n",
      "53 14\n",
      "54 2\n",
      "55 84\n",
      "56 3\n",
      "57 52\n",
      "58 97\n",
      "59 172\n",
      "60 32\n",
      "61 10\n",
      "62 1979\n",
      "63 1504\n",
      "64 138\n",
      "65 437\n",
      "66 32\n",
      "67 22\n",
      "68 4\n",
      "69 80\n",
      "70 136\n",
      "71 702\n",
      "72 193\n",
      "74 500\n",
      "75 2\n",
      "76 4\n",
      "77 4\n",
      "79 12\n",
      "81 8\n",
      "82 218\n",
      "83 15\n",
      "84 20\n",
      "85 11\n",
      "86 27\n",
      "87 184\n",
      "88 131\n",
      "89 1\n",
      "90 3\n",
      "92 18\n",
      "96 5\n",
      "97 42\n",
      "98 3\n",
      "99 132\n",
      "100 5\n",
      "102 20\n",
      "105 4\n",
      "107 264\n",
      "108 13\n",
      "109 80\n",
      "111 24\n",
      "112 5\n",
      "113 30\n",
      "114 7\n",
      "115 178\n",
      "116 8\n",
      "118 12\n",
      "119 210\n",
      "120 1\n",
      "121 170\n",
      "122 213\n",
      "123 1042\n",
      "124 20\n",
      "125 32\n",
      "127 406\n",
      "128 23\n",
      "129 820\n",
      "130 2\n",
      "131 24\n",
      "132 14\n",
      "135 1\n",
      "136 254\n",
      "137 42\n",
      "138 5\n",
      "139 2111\n",
      "140 465\n",
      "141 313\n",
      "142 2\n",
      "143 14\n",
      "144 1\n",
      "145 1\n",
      "146 121\n",
      "147 63\n",
      "148 602\n",
      "149 12\n",
      "150 31\n",
      "152 31\n",
      "153 5\n",
      "154 16\n",
      "155 116\n",
      "156 519\n",
      "157 9\n",
      "159 6\n",
      "160 491\n",
      "161 75\n",
      "162 69\n",
      "163 78\n",
      "164 879\n",
      "166 1787\n",
      "167 137\n",
      "173 14\n",
      "174 26\n",
      "176 114\n",
      "179 1\n",
      "180 31\n",
      "181 9\n",
      "182 39\n",
      "183 9\n",
      "186 295\n",
      "187 551\n",
      "188 1\n",
      "189 771\n",
      "190 21\n",
      "191 599\n",
      "193 395\n",
      "194 1905\n",
      "198 123\n",
      "199 26\n",
      "200 47\n",
      "204 196\n",
      "205 54\n",
      "212 2\n",
      "213 10\n",
      "215 49\n",
      "216 861\n",
      "217 29\n",
      "218 2\n",
      "220 159\n",
      "221 1366\n",
      "223 83\n",
      "224 7\n",
      "225 6714\n",
      "227 499\n",
      "229 152\n"
     ]
    }
   ],
   "source": [
    "idx = 1\n",
    "for a in space_group_all:\n",
    "    print(a[0],len(a[1]))"
   ]
  },
  {
   "cell_type": "code",
   "execution_count": 30,
   "metadata": {},
   "outputs": [],
   "source": [
    "Crystal_system_dict  = {\n",
    "    1:\"Triclinic\",    # 1-2\n",
    "    2:\"Monoclinic\",   # 3-15\n",
    "    3:\"Orthorhombic\", # 16-74\n",
    "    4:\"Tetragonal\",   # 75-142\n",
    "    5:\"Trigonal\",     # 143-167\n",
    "    6:\"Hexagonal\",    # 168-194\n",
    "    7:\"Cubic\"         # 195-230\n",
    "}\n",
    "Crystal_system = [0]\n",
    "\n",
    "for idx in range(230):\n",
    "    spg_num = idx+1\n",
    "    if spg_num<=2:\n",
    "        cry_sys=1\n",
    "    elif spg_num<=15:\n",
    "        cry_sys=2\n",
    "    elif spg_num<=74:\n",
    "        cry_sys=3\n",
    "    elif spg_num<=142:\n",
    "        cry_sys=4\n",
    "    elif spg_num<=167:\n",
    "        cry_sys=5\n",
    "    elif spg_num<=194:\n",
    "        cry_sys=6\n",
    "    elif spg_num<=230:\n",
    "        cry_sys=7\n",
    "    Crystal_system.append(cry_sys)\n",
    "\n",
    "# mp20 - [1880, 6627, 8839, 7660, 5063, 4781, 10379]"
   ]
  },
  {
   "cell_type": "code",
   "execution_count": 31,
   "metadata": {},
   "outputs": [
    {
     "name": "stdout",
     "output_type": "stream",
     "text": [
      "[1880, 6627, 8839, 7660, 5063, 4781, 10379]\n"
     ]
    }
   ],
   "source": [
    "cnt = [0]*7\n",
    "for a in space_group_all:\n",
    "    cnt[Crystal_system[a[0]]-1] += len(a[1])\n",
    "print(cnt)"
   ]
  },
  {
   "cell_type": "code",
   "execution_count": null,
   "metadata": {},
   "outputs": [],
   "source": []
  }
 ],
 "metadata": {
  "kernelspec": {
   "display_name": "cdvae",
   "language": "python",
   "name": "python3"
  },
  "language_info": {
   "codemirror_mode": {
    "name": "ipython",
    "version": 3
   },
   "file_extension": ".py",
   "mimetype": "text/x-python",
   "name": "python",
   "nbconvert_exporter": "python",
   "pygments_lexer": "ipython3",
   "version": "3.8.17"
  },
  "orig_nbformat": 4
 },
 "nbformat": 4,
 "nbformat_minor": 2
}
